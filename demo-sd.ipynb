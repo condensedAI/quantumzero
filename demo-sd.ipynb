{
 "cells": [
  {
   "cell_type": "markdown",
   "metadata": {},
   "source": [
    "# stochastic descent\n",
    "\n",
    "take a 3-sat instance of 7 qubits as an example"
   ]
  },
  {
   "cell_type": "code",
   "execution_count": 1,
   "metadata": {},
   "outputs": [],
   "source": [
    "import math\n",
    "from numpy import *\n",
    "from scipy import linalg\n",
    "import numpy as np\n",
    "from satmethod import system,method\n",
    "import datetime\n",
    "\n",
    "\n",
    "n_qubit=7\n",
    "result=[0, 0, 1, 1, 1, 1, 2, 2, 2, 3, 3, 3, 3, 4, 4, 5, 5, 5, 5, 6, 7, 7, 7, 8, 9, 9, 10, 10, 11, 11, 12, 13, 13, 15, 16, 16, 17, 17, 17, 18, 18, 18, 19, 19, 19, 20, 20, 20, 21, 21, 21, 21, 21, 22, 22, 22, 23, 23, 23, 23, 23, 24, 25, 25, 26, 27, 28, 28, 29, 29, 29, 29, 30, 31, 31, 31, 32, 32, 33, 33, 33, 33, 34, 34, 35, 35, 35, 35, 36, 36, 36, 36, 37, 37, 37, 37, 37, 37, 38, 38, 39, 39, 39, 39, 39, 40, 41, 41, 42, 42, 43, 43, 43, 44, 44, 44, 45, 45, 45, 45, 46, 46, 47, 47, 47, 47, 48, 48, 49, 49, 50, 50, 51, 51, 52, 52, 52, 53, 53, 53, 53, 54, 54, 55, 55, 55, 55, 56, 57, 58, 59, 60, 60, 61, 61, 61, 62, 63, 63, 63, 64, 64, 64, 64, 65, 65, 65, 66, 66, 66, 66, 66, 67, 67, 67, 68, 68, 68, 68, 69, 69, 69, 70, 70, 70, 71, 71, 72, 72, 72, 72, 73, 73, 74, 74, 74, 74, 74, 75, 75, 76, 76, 76, 76, 77, 77, 78, 78, 78, 79, 80, 80, 80, 81, 81, 82, 82, 82, 82, 83, 83, 84, 84, 84, 84, 85, 85, 85, 85, 86, 86, 86, 86, 87, 87, 87, 87, 88, 88, 88, 89, 89, 90, 90, 90, 91, 92, 92, 92, 92, 93, 93, 93, 93, 94, 94, 94, 95, 95, 95, 96, 96, 97, 97, 98, 98, 99, 99, 100, 100, 100, 100, 101, 101, 101, 101, 102, 102, 103, 103, 103, 104, 104, 105, 106, 106, 106, 107, 107, 108, 108, 108, 108, 109, 109, 109, 110, 110, 110, 111, 111, 111, 112, 112, 113, 114, 114, 115, 116, 116, 116, 117, 117, 117, 118, 118, 119, 119, 119, 120, 120, 121, 122, 122, 123, 124, 124, 124, 125, 125, 125, 126, 126, 127, 127, 127]\n"
   ]
  },
  {
   "cell_type": "code",
   "execution_count": 2,
   "metadata": {},
   "outputs": [
    {
     "name": "stdout",
     "output_type": "stream",
     "text": [
      "2021-05-08 09:36:12.924022\n",
      "2021-05-08 09:36:12.930470\n"
     ]
    }
   ],
   "source": [
    "print(datetime.datetime.now())\n",
    "\n",
    "HB,HP,psi0,psif=system.satSystem(n_qubit,result)\n",
    "\n",
    "print(datetime.datetime.now())    #### 50min"
   ]
  },
  {
   "cell_type": "code",
   "execution_count": 4,
   "metadata": {},
   "outputs": [
    {
     "name": "stdout",
     "output_type": "stream",
     "text": [
      "2021-05-08 09:38:17.336620\n",
      "[ 0.    0.1   0.15  0.12 -0.06]\n",
      "iter: 11 ncan: 73\n",
      "sd 50 [0.02 0.19 0.19 0.14 0.04] 0.722720150136686\n",
      "[ 0.15 -0.01  0.07  0.02  0.01]\n",
      "iter: 15 ncan: 110\n",
      "sd 50 [ 0.19  0.12  0.11 -0.01  0.03] 0.9913885684693554\n",
      "[ 0.04  0.19  0.17  0.12 -0.12]\n",
      "iter: 7 ncan: 59\n",
      "sd 50 [ 0.05  0.13  0.19  0.16 -0.14] 0.667146259953334\n",
      "[ 0.07 -0.02 -0.03 -0.18 -0.07]\n",
      "iter: 4 ncan: 38\n",
      "sd 50 [ 0.08 -0.04 -0.06 -0.16 -0.05] 0.8950360246525877\n",
      "[-0.1  -0.17 -0.11 -0.17  0.18]\n",
      "iter: 10 ncan: 87\n",
      "sd 50 [-0.08 -0.2  -0.14 -0.15  0.09] 0.8548212168919235\n",
      "[-0.05 -0.13  0.06 -0.13 -0.18]\n",
      "iter: 18 ncan: 111\n",
      "sd 50 [ 1.04083409e-17  4.00000000e-02  1.50000000e-01 -2.00000000e-01\n",
      " -2.00000000e-01] 0.5539678273596302\n",
      "[-0.2   0.    0.07  0.04 -0.02]\n",
      "iter: 9 ncan: 68\n",
      "sd 50 [-0.2   0.03 -0.01  0.11 -0.07] 0.825567852240378\n",
      "[ 0.06  0.19  0.05 -0.01 -0.13]\n",
      "iter: 15 ncan: 112\n",
      "sd 50 [ 9.00000000e-02  2.00000000e-01  3.46944695e-18  6.00000000e-02\n",
      " -1.00000000e-02] 0.9645078263871014\n",
      "[ 0.03 -0.2  -0.09  0.19 -0.17]\n",
      "iter: 13 ncan: 81\n",
      "sd 50 [ 0.03 -0.2  -0.2   0.19 -0.11] 0.513323061781557\n",
      "[ 0.17 -0.04  0.   -0.02  0.02]\n",
      "iter: 9 ncan: 82\n",
      "sd 50 [ 0.17  0.04  0.06 -0.08 -0.03] 0.9160694754974334\n",
      "[-0.13  0.13  0.18 -0.13 -0.13]\n",
      "iter: 14 ncan: 82\n",
      "sd 50 [-0.2   0.19  0.2  -0.2  -0.2 ] 0.5757459312890032\n",
      "[-0.08  0.04  0.08 -0.12 -0.12]\n",
      "iter: 27 ncan: 226\n",
      "sd 50 [-0.07  0.19  0.02 -0.01 -0.14] 0.8940543816557663\n",
      "[ 0.19  0.13 -0.01  0.16  0.06]\n",
      "iter: 12 ncan: 86\n",
      "sd 50 [ 2.00000000e-01  1.90000000e-01  3.12250226e-17  1.10000000e-01\n",
      " -3.00000000e-02] 0.9777145132322735\n",
      "[-0.07  0.16 -0.09 -0.03  0.  ]\n",
      "iter: 16 ncan: 126\n",
      "sd 50 [-0.08  0.19  0.02 -0.03 -0.15] 0.8910209352623097\n",
      "[ 0.19  0.01 -0.12 -0.02 -0.06]\n",
      "iter: 26 ncan: 185\n",
      "sd 50 [ 0.2   0.07  0.1  -0.04 -0.01] 0.9446750863605619\n",
      "[-0.19 -0.2   0.03 -0.2  -0.04]\n",
      "iter: 17 ncan: 106\n",
      "sd 50 [-0.14 -0.2   0.04 -0.2  -0.2 ] 0.2456954382742699\n",
      "[-0.17 -0.03 -0.09  0.05  0.14]\n",
      "iter: 6 ncan: 59\n",
      "sd 50 [-0.15 -0.07 -0.11  0.08  0.09] 0.8890674142063393\n",
      "[-0.11 -0.05  0.08  0.18 -0.11]\n",
      "iter: 31 ncan: 247\n",
      "sd 50 [-3.12250226e-17 -4.00000000e-02 -1.70000000e-01  2.00000000e-01\n",
      "  5.00000000e-02] 0.759702901303006\n",
      "[-0.03 -0.15  0.1  -0.02  0.09]\n",
      "iter: 14 ncan: 127\n",
      "sd 50 [ 0.04 -0.02 -0.01 -0.08  0.09] 0.8736260151178827\n",
      "[ 0.1   0.1   0.   -0.17  0.1 ]\n",
      "iter: 11 ncan: 100\n",
      "sd 50 [ 0.13  0.06  0.05 -0.08  0.03] 0.929545812918108\n",
      "2021-05-08 09:41:04.758102\n"
     ]
    }
   ],
   "source": [
    "print(datetime.datetime.now())\n",
    "\n",
    "T=50       ### dt=0.2    iter: 14 ncan: 129\n",
    "Mcut=5\n",
    "psd=[]\n",
    "\n",
    "for i in range(20):\n",
    "   \n",
    "    obs, fid2=method.StochasticDescent(n_qubit,T,Mcut,HB,HP,psi0,psif)   \n",
    "    print(\"sd\",T,obs,fid2)    \n",
    "    psd.append(fid2)                            \n",
    "    \n",
    "print(datetime.datetime.now())"
   ]
  },
  {
   "cell_type": "markdown",
   "metadata": {},
   "source": [
    "# Plot the evolution path"
   ]
  },
  {
   "cell_type": "code",
   "execution_count": 11,
   "metadata": {},
   "outputs": [],
   "source": [
    "import math\n",
    "from numpy import *\n",
    "import numpy as np\n",
    "from scipy import linalg\n",
    "import matplotlib.pyplot as plt\n",
    "\n",
    "def plotpath(obs):\n",
    "\n",
    "    Cut=5\n",
    "\n",
    "    a, bb = np.linalg.eig(HB)\n",
    "    idx = a.argsort()[::1]   \n",
    "    a = a[idx]\n",
    "    bb = bb[:,idx]    \n",
    "\n",
    "    a, bp = np.linalg.eig(HP)\n",
    "    idx = a.argsort()[::1]   \n",
    "    a = a[idx]\n",
    "    bp = bp[:,idx]\n",
    "\n",
    "    ax=[]\n",
    "    ay=[]\n",
    "    ay2=[]\n",
    "    ac=[]\n",
    "    acc=[]\n",
    "    ae=[]\n",
    "    aa1=[]\n",
    "    aax=[]\n",
    "    dae=[]\n",
    "    plt.ion() \n",
    "    wf=bb[:,0]\n",
    "    wff=bb[:,0]\n",
    "\n",
    "    T=50\n",
    "    dt=0.5\n",
    "    NL=int(T/dt)\n",
    "    for ff in range(0,NL):\n",
    "        t=dt*ff\n",
    "        ax.append(t)\n",
    "        st=t/T\n",
    "        for i in range(1,Cut+1):\n",
    "            st=st+obs[0,i-1]* math.sin(i*3.1415*t/T)\n",
    "        H=(1-st)*HB+st*HP\n",
    "        Bt=linalg.expm(-1j*np.asarray(H)*dt)\n",
    "        wf=np.matmul(Bt, wf)\n",
    "\n",
    "\n",
    "        a1, bp1 = np.linalg.eig(H)\n",
    "        idx = a1.argsort()[::1]   \n",
    "        a1 = a1[idx]\n",
    "        aa1.append(a1[0])\n",
    "        aax.append(st)\n",
    "\n",
    "        c=np.dot(bp[:,0].conjugate().T,wf)    ####overlap\n",
    "        c1=abs(c)**2\n",
    "        ac.append(c1)\n",
    "\n",
    "\n",
    "        ee=np.dot(HP,wf)\n",
    "        ee=np.dot(wf.conjugate().T,ee)     ##ground energy\n",
    "        ae.append(ee)\n",
    "\n",
    "\n",
    "\n",
    "    plt.clf()              # 清除之前画的图\n",
    "    plt.plot(ax,aax)\n",
    "    plt.title('s(t)')\n",
    "\n",
    "\n",
    "    print(ee,c1)\n"
   ]
  },
  {
   "cell_type": "code",
   "execution_count": 12,
   "metadata": {},
   "outputs": [
    {
     "name": "stdout",
     "output_type": "stream",
     "text": [
      "[[ 0.19  0.12  0.11 -0.01  0.03]]\n",
      "(0.008885268842489618+0j) 0.991315420480211\n"
     ]
    },
    {
     "data": {
      "image/png": "[encoded data removed]",
      "text/plain": [
       "<Figure size 432x288 with 1 Axes>"
      ]
     },
     "metadata": {},
     "output_type": "display_data"
    }
   ],
   "source": [
    "obs=np.array([[ 0.19 , 0.12,  0.11, -0.01, 0.03]]) \n",
    "print(obs)\n",
    "\n",
    "plotpath(obs)"
   ]
  },
  {
   "cell_type": "code",
   "execution_count": null,
   "metadata": {},
   "outputs": [],
   "source": []
  }
 ],
 "metadata": {
  "kernelspec": {
   "display_name": "Python 3",
   "language": "python",
   "name": "python3"
  },
  "language_info": {
   "codemirror_mode": {
    "name": "ipython",
    "version": 3
   },
   "file_extension": ".py",
   "mimetype": "text/x-python",
   "name": "python",
   "nbconvert_exporter": "python",
   "pygments_lexer": "ipython3",
   "version": "3.6.5"
  }
 },
 "nbformat": 4,
 "nbformat_minor": 2
}
